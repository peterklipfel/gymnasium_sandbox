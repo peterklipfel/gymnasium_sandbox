{
 "cells": [
  {
   "cell_type": "code",
   "execution_count": 1,
   "id": "cbe65f11-25e2-4c57-9d2d-ee21b3ff785f",
   "metadata": {},
   "outputs": [],
   "source": [
    "import matplotlib.pyplot as plt\n",
    "import numpy as np"
   ]
  },
  {
   "cell_type": "code",
   "execution_count": 4,
   "id": "d78a2ebb-e7a5-4878-9223-86ff64ed2493",
   "metadata": {},
   "outputs": [],
   "source": [
    "def numpy_fillna(data):\n",
    "    # Get lengths of each row of data\n",
    "    lens = np.array([len(i) for i in data])\n",
    "\n",
    "    # Mask of valid places in each row\n",
    "    mask = np.arange(lens.max()) < lens[:,None]\n",
    "\n",
    "    # Setup output array and put elements from data into masked positions\n",
    "    out = np.zeros(mask.shape)\n",
    "    out[mask] = np.concatenate(data)\n",
    "    return out\n",
    "\n",
    "run_lengths = numpy_fillna([\n",
    "    [9.0, 9.0, 9.0, 10.0, 10.0, 10.0, 9.0, 8.0, 9.0, 9.0, 9.0, 10.0, 10.0, 10.0, 8.0, 10.0, 9.0, 9.0, 9.0, 8.0, 10.0, 9.0, 10.0, 9.0, 9.0, 9.0, 8.0, 8.0, 9.0, 9.0, 10.0, 10.0, 9.0, 9.0, 10.0, 9.0, 10.0, 9.0, 8.0, 9.0, 9.0, 8.0, 8.0, 9.0, 9.0, 8.0, 9.0, 10.0, 9.0, 8.0, 10.0, 10.0, 11.0, 10.0, 9.0, 8.0, 10.0, 10.0, 10.0, 9.0, 10.0, 10.0, 9.0, 10.0, 9.0, 8.0, 10.0, 9.0, 9.0, 10.0, 10.0, 9.0, 9.0, 8.0, 10.0, 9.0, 9.0, 9.0, 8.0, 11.0, 9.0, 9.0, 8.0, 10.0, 8.0, 9.0, 9.0, 10.0, 8.0, 8.0, 10.0, 9.0, 10.0, 10.0, 10.0, 9.0, 10.0, 10.0, 10.0, 9.0, 9.0, 10.0, 8.0, 9.0, 9.0, 8.0, 10.0, 9.0],\n",
    "    [10.0, 10.0, 10.0, 10.0, 10.0, 10.0, 10.0, 9.0, 9.0, 9.0, 9.0, 10.0, 10.0, 9.0, 8.0, 9.0, 8.0, 10.0, 10.0, 10.0, 10.0, 9.0, 10.0, 9.0, 9.0, 10.0, 9.0, 9.0, 9.0, 9.0, 9.0, 8.0, 9.0, 10.0, 9.0, 8.0, 8.0, 10.0, 8.0, 10.0, 10.0, 8.0, 9.0, 9.0, 9.0, 9.0, 9.0, 10.0, 9.0, 9.0, 10.0, 10.0, 9.0, 9.0, 10.0, 8.0, 10.0, 10.0, 10.0, 9.0, 10.0, 9.0, 10.0, 11.0, 10.0, 10.0, 9.0, 10.0, 10.0, 9.0, 8.0, 10.0, 9.0, 10.0, 9.0, 8.0, 10.0, 10.0, 10.0, 10.0, 10.0, 11.0, 10.0, 8.0, 9.0, 10.0, 10.0, 10.0, 10.0, 9.0, 10.0, 10.0, 10.0, 11.0, 9.0, 10.0, 10.0, 10.0, 10.0, 10.0, 9.0, 9.0, 10.0, 9.0, 9.0, 9.0],\\\n",
    "    [14.0, 60.0, 32.0, 11.0, 12.0, 23.0, 17.0, 38.0, 33.0, 18.0, 18.0, 21.0, 34.0, 20.0, 18.0, 25.0, 22.0, 8.0, 24.0, 13.0, 24.0, 12.0, 37.0, 17.0, 28.0, 16.0, 35.0, 19.0, 18.0, 21.0, 12.0, 11.0, 19.0, 19.0, 11.0, 25.0, 27.0, 28.0, 10.0, 12.0, 17.0, 38.0, 17.0, 17.0, 25.0, 10.0, 16.0], [30.0, 49.0, 37.0, 39.0, 45.0, 55.0, 38.0, 25.0, 50.0, 35.0, 53.0, 36.0, 35.0, 59.0, 43.0, 58.0, 34.0, 40.0, 37.0, 57.0, 36.0, 25.0, 35.0, 39.0]]\n",
    ")"
   ]
  },
  {
   "cell_type": "code",
   "execution_count": 5,
   "id": "8aae4868-bdf2-4892-b150-a273f8f1259a",
   "metadata": {},
   "outputs": [
    {
     "data": {
      "text/plain": [
       "array([[ 9.,  9.,  9., 10., 10., 10.,  9.,  8.,  9.,  9.,  9., 10., 10.,\n",
       "        10.,  8., 10.,  9.,  9.,  9.,  8., 10.,  9., 10.,  9.,  9.,  9.,\n",
       "         8.,  8.,  9.,  9., 10., 10.,  9.,  9., 10.,  9., 10.,  9.,  8.,\n",
       "         9.,  9.,  8.,  8.,  9.,  9.,  8.,  9., 10.,  9.,  8., 10., 10.,\n",
       "        11., 10.,  9.,  8., 10., 10., 10.,  9., 10., 10.,  9., 10.,  9.,\n",
       "         8., 10.,  9.,  9., 10., 10.,  9.,  9.,  8., 10.,  9.,  9.,  9.,\n",
       "         8., 11.,  9.,  9.,  8., 10.,  8.,  9.,  9., 10.,  8.,  8., 10.,\n",
       "         9., 10., 10., 10.,  9., 10., 10., 10.,  9.,  9., 10.,  8.,  9.,\n",
       "         9.,  8., 10.,  9.],\n",
       "       [10., 10., 10., 10., 10., 10., 10.,  9.,  9.,  9.,  9., 10., 10.,\n",
       "         9.,  8.,  9.,  8., 10., 10., 10., 10.,  9., 10.,  9.,  9., 10.,\n",
       "         9.,  9.,  9.,  9.,  9.,  8.,  9., 10.,  9.,  8.,  8., 10.,  8.,\n",
       "        10., 10.,  8.,  9.,  9.,  9.,  9.,  9., 10.,  9.,  9., 10., 10.,\n",
       "         9.,  9., 10.,  8., 10., 10., 10.,  9., 10.,  9., 10., 11., 10.,\n",
       "        10.,  9., 10., 10.,  9.,  8., 10.,  9., 10.,  9.,  8., 10., 10.,\n",
       "        10., 10., 10., 11., 10.,  8.,  9., 10., 10., 10., 10.,  9., 10.,\n",
       "        10., 10., 11.,  9., 10., 10., 10., 10., 10.,  9.,  9., 10.,  9.,\n",
       "         9.,  9.,  0.,  0.],\n",
       "       [14., 60., 32., 11., 12., 23., 17., 38., 33., 18., 18., 21., 34.,\n",
       "        20., 18., 25., 22.,  8., 24., 13., 24., 12., 37., 17., 28., 16.,\n",
       "        35., 19., 18., 21., 12., 11., 19., 19., 11., 25., 27., 28., 10.,\n",
       "        12., 17., 38., 17., 17., 25., 10., 16.,  0.,  0.,  0.,  0.,  0.,\n",
       "         0.,  0.,  0.,  0.,  0.,  0.,  0.,  0.,  0.,  0.,  0.,  0.,  0.,\n",
       "         0.,  0.,  0.,  0.,  0.,  0.,  0.,  0.,  0.,  0.,  0.,  0.,  0.,\n",
       "         0.,  0.,  0.,  0.,  0.,  0.,  0.,  0.,  0.,  0.,  0.,  0.,  0.,\n",
       "         0.,  0.,  0.,  0.,  0.,  0.,  0.,  0.,  0.,  0.,  0.,  0.,  0.,\n",
       "         0.,  0.,  0.,  0.],\n",
       "       [30., 49., 37., 39., 45., 55., 38., 25., 50., 35., 53., 36., 35.,\n",
       "        59., 43., 58., 34., 40., 37., 57., 36., 25., 35., 39.,  0.,  0.,\n",
       "         0.,  0.,  0.,  0.,  0.,  0.,  0.,  0.,  0.,  0.,  0.,  0.,  0.,\n",
       "         0.,  0.,  0.,  0.,  0.,  0.,  0.,  0.,  0.,  0.,  0.,  0.,  0.,\n",
       "         0.,  0.,  0.,  0.,  0.,  0.,  0.,  0.,  0.,  0.,  0.,  0.,  0.,\n",
       "         0.,  0.,  0.,  0.,  0.,  0.,  0.,  0.,  0.,  0.,  0.,  0.,  0.,\n",
       "         0.,  0.,  0.,  0.,  0.,  0.,  0.,  0.,  0.,  0.,  0.,  0.,  0.,\n",
       "         0.,  0.,  0.,  0.,  0.,  0.,  0.,  0.,  0.,  0.,  0.,  0.,  0.,\n",
       "         0.,  0.,  0.,  0.]])"
      ]
     },
     "execution_count": 5,
     "metadata": {},
     "output_type": "execute_result"
    }
   ],
   "source": [
    "run_lengths"
   ]
  },
  {
   "cell_type": "code",
   "execution_count": 37,
   "id": "a97729b4-6f0e-483a-8e0d-fd6b9e93f1f3",
   "metadata": {},
   "outputs": [
    {
     "data": {
      "image/png": "[encoded data removed]",
      "text/plain": [
       "<Figure size 200x200 with 1 Axes>"
      ]
     },
     "metadata": {},
     "output_type": "display_data"
    }
   ],
   "source": [
    "plt.style.use('_mpl-gallery')\n",
    "\n",
    "# make data:\n",
    "np.random.seed(1)\n",
    "x = [2, 4, 6, 8]\n",
    "D = run_lengths\n",
    "\n",
    "# plot:\n",
    "fig, ax = plt.subplots()\n",
    "\n",
    "ax.eventplot(D, orientation=\"vertical\", lineoffsets=x, linewidth=0.75)\n",
    "\n",
    "ax.set(xlim=(0, 10), xticks=np.arange(1, 10),\n",
    "       ylim=(0, 10), yticks=np.linspace(0, 80, 11))\n",
    "\n",
    "plt.show()"
   ]
  },
  {
   "cell_type": "code",
   "execution_count": 33,
   "id": "1ee69c16-d30f-4265-9805-2c8036eee475",
   "metadata": {},
   "outputs": [
    {
     "data": {
      "text/plain": [
       "array([ 0.,  8., 16., 24., 32., 40., 48., 56., 64., 72., 80.])"
      ]
     },
     "execution_count": 33,
     "metadata": {},
     "output_type": "execute_result"
    }
   ],
   "source": []
  },
  {
   "cell_type": "code",
   "execution_count": null,
   "id": "72d440cb-411d-4cda-8aab-e34150cb8916",
   "metadata": {},
   "outputs": [],
   "source": []
  }
 ],
 "metadata": {
  "kernelspec": {
   "display_name": "Python 3 (ipykernel)",
   "language": "python",
   "name": "python3"
  },
  "language_info": {
   "codemirror_mode": {
    "name": "ipython",
    "version": 3
   },
   "file_extension": ".py",
   "mimetype": "text/x-python",
   "name": "python",
   "nbconvert_exporter": "python",
   "pygments_lexer": "ipython3",
   "version": "3.8.10"
  }
 },
 "nbformat": 4,
 "nbformat_minor": 5
}
